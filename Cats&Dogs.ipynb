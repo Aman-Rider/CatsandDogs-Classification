{
 "cells": [
  {
   "cell_type": "code",
   "execution_count": 1,
   "metadata": {},
   "outputs": [],
   "source": [
    "import numpy as np\n",
    "import matplotlib.pyplot as plt\n",
    "import os\n",
    "import cv2\n",
    "dataset=\"train\"\n",
    "CATAGORIES=[\"Dogs\",\"Cats\"]"
   ]
  },
  {
   "cell_type": "code",
   "execution_count": 2,
   "metadata": {},
   "outputs": [],
   "source": [
    "training_data=[]\n",
    "def creating_training_data():\n",
    "    for categories in CATAGORIES:\n",
    "        path = os.path.join(dataset,categories)\n",
    "        class_num = CATAGORIES.index(categories)\n",
    "        for img in os.listdir(path):\n",
    "            try:\n",
    "                p=os.path.join(path,img)\n",
    "                img_array = cv2.imread(p)\n",
    "                new_array=cv2.resize(img_array,(256,256))\n",
    "                training_data.append([new_array,class_num])\n",
    "            except Exception as e:\n",
    "                pass"
   ]
  },
  {
   "cell_type": "code",
   "execution_count": 3,
   "metadata": {},
   "outputs": [],
   "source": [
    "creating_training_data()"
   ]
  },
  {
   "cell_type": "code",
   "execution_count": 4,
   "metadata": {},
   "outputs": [],
   "source": [
    "import random\n",
    "random.shuffle(training_data)"
   ]
  },
  {
   "cell_type": "code",
   "execution_count": 5,
   "metadata": {},
   "outputs": [],
   "source": [
    "x=[]\n",
    "y=[]\n",
    "for features,label in training_data:\n",
    "    x.append(features)\n",
    "    y.append(label)\n",
    "    \n",
    "x= np.array(x).reshape(-1,256,256,3)"
   ]
  },
  {
   "cell_type": "code",
   "execution_count": 6,
   "metadata": {},
   "outputs": [],
   "source": [
    "import pickle\n",
    "pickle_out = open(\"x.pickle\",\"wb\")\n",
    "pickle.dump(x,pickle_out)\n",
    "pickle_out.close()\n",
    "pickle_out = open(\"y.pickle\",\"wb\")\n",
    "pickle.dump(y,pickle_out)\n",
    "pickle_out.close()"
   ]
  },
  {
   "cell_type": "code",
   "execution_count": 7,
   "metadata": {},
   "outputs": [
    {
     "name": "stderr",
     "output_type": "stream",
     "text": [
      "Using TensorFlow backend.\n"
     ]
    }
   ],
   "source": [
    "from keras.models import Sequential\n",
    "from keras.layers import Dense,Dropout,Activation,Flatten,Conv2D,MaxPool2D\n",
    "import pickle\n"
   ]
  },
  {
   "cell_type": "code",
   "execution_count": null,
   "metadata": {},
   "outputs": [],
   "source": [
    "x=pickle.load(open(\"x.pickle\",\"rb\"))\n",
    "y=pickle.load(open(\"y.pickle\",\"rb\"))\n"
   ]
  },
  {
   "cell_type": "code",
   "execution_count": 8,
   "metadata": {},
   "outputs": [],
   "source": [
    "x = x/255.0\n"
   ]
  },
  {
   "cell_type": "code",
   "execution_count": 14,
   "metadata": {},
   "outputs": [],
   "source": [
    "model = Sequential()"
   ]
  },
  {
   "cell_type": "code",
   "execution_count": 11,
   "metadata": {},
   "outputs": [
    {
     "data": {
      "text/plain": [
       "(1000, 256, 256, 3)"
      ]
     },
     "execution_count": 11,
     "metadata": {},
     "output_type": "execute_result"
    }
   ],
   "source": [
    "x.shape"
   ]
  },
  {
   "cell_type": "code",
   "execution_count": 15,
   "metadata": {},
   "outputs": [],
   "source": [
    "model.add(Conv2D(64,(3,3),input_shape= (256,256,3),activation='relu'))\n",
    "model.add(MaxPool2D(pool_size=(2,2)))\n",
    "\n",
    "model.add(Conv2D(64,(3,3),activation='relu'))\n",
    "model.add(MaxPool2D(pool_size=(2,2)))\n",
    "\n",
    "model.add(Flatten())\n",
    "model.add(Dense(128, activation='relu'))\n",
    "model.add(Dense(128, activation='relu'))\n",
    "model.add(Dense(64, activation='relu'))\n",
    "\n",
    "\n",
    "model.add(Dense(1))\n",
    "model.add(Activation(\"sigmoid\"))"
   ]
  },
  {
   "cell_type": "code",
   "execution_count": null,
   "metadata": {},
   "outputs": [],
   "source": []
  },
  {
   "cell_type": "code",
   "execution_count": 16,
   "metadata": {},
   "outputs": [
    {
     "name": "stderr",
     "output_type": "stream",
     "text": [
      "W0812 22:39:45.026084 139673708820288 deprecation_wrapper.py:119] From /home/aman/anaconda3/lib/python3.7/site-packages/keras/optimizers.py:790: The name tf.train.Optimizer is deprecated. Please use tf.compat.v1.train.Optimizer instead.\n",
      "\n",
      "W0812 22:39:45.056595 139673708820288 deprecation_wrapper.py:119] From /home/aman/anaconda3/lib/python3.7/site-packages/keras/backend/tensorflow_backend.py:3376: The name tf.log is deprecated. Please use tf.math.log instead.\n",
      "\n",
      "W0812 22:39:45.068532 139673708820288 deprecation.py:323] From /home/aman/anaconda3/lib/python3.7/site-packages/tensorflow/python/ops/nn_impl.py:180: add_dispatch_support.<locals>.wrapper (from tensorflow.python.ops.array_ops) is deprecated and will be removed in a future version.\n",
      "Instructions for updating:\n",
      "Use tf.where in 2.0, which has the same broadcast rule as np.where\n"
     ]
    }
   ],
   "source": [
    "model.compile(optimizer='adam',loss='binary_crossentropy',metrics=['accuracy'])"
   ]
  },
  {
   "cell_type": "code",
   "execution_count": 17,
   "metadata": {},
   "outputs": [
    {
     "name": "stdout",
     "output_type": "stream",
     "text": [
      "_________________________________________________________________\n",
      "Layer (type)                 Output Shape              Param #   \n",
      "=================================================================\n",
      "conv2d_4 (Conv2D)            (None, 254, 254, 64)      1792      \n",
      "_________________________________________________________________\n",
      "max_pooling2d_3 (MaxPooling2 (None, 127, 127, 64)      0         \n",
      "_________________________________________________________________\n",
      "conv2d_5 (Conv2D)            (None, 125, 125, 64)      36928     \n",
      "_________________________________________________________________\n",
      "max_pooling2d_4 (MaxPooling2 (None, 62, 62, 64)        0         \n",
      "_________________________________________________________________\n",
      "flatten_3 (Flatten)          (None, 246016)            0         \n",
      "_________________________________________________________________\n",
      "dense_2 (Dense)              (None, 128)               31490176  \n",
      "_________________________________________________________________\n",
      "dense_3 (Dense)              (None, 128)               16512     \n",
      "_________________________________________________________________\n",
      "dense_4 (Dense)              (None, 64)                8256      \n",
      "_________________________________________________________________\n",
      "dense_5 (Dense)              (None, 1)                 65        \n",
      "_________________________________________________________________\n",
      "activation_1 (Activation)    (None, 1)                 0         \n",
      "=================================================================\n",
      "Total params: 31,553,729\n",
      "Trainable params: 31,553,729\n",
      "Non-trainable params: 0\n",
      "_________________________________________________________________\n"
     ]
    }
   ],
   "source": [
    "model.summary()"
   ]
  },
  {
   "cell_type": "code",
   "execution_count": null,
   "metadata": {},
   "outputs": [],
   "source": []
  },
  {
   "cell_type": "code",
   "execution_count": 18,
   "metadata": {},
   "outputs": [
    {
     "name": "stderr",
     "output_type": "stream",
     "text": [
      "W0812 22:39:56.497199 139673708820288 deprecation_wrapper.py:119] From /home/aman/anaconda3/lib/python3.7/site-packages/keras/backend/tensorflow_backend.py:986: The name tf.assign_add is deprecated. Please use tf.compat.v1.assign_add instead.\n",
      "\n"
     ]
    },
    {
     "name": "stdout",
     "output_type": "stream",
     "text": [
      "Train on 900 samples, validate on 100 samples\n",
      "Epoch 1/10\n",
      "900/900 [==============================] - 117s 130ms/step - loss: 0.9128 - acc: 0.5056 - val_loss: 0.6922 - val_acc: 0.4900\n",
      "Epoch 2/10\n",
      "900/900 [==============================] - 117s 130ms/step - loss: 0.6900 - acc: 0.5389 - val_loss: 0.9420 - val_acc: 0.4900\n",
      "Epoch 3/10\n",
      "900/900 [==============================] - 116s 129ms/step - loss: 0.6895 - acc: 0.6100 - val_loss: 0.6795 - val_acc: 0.6000\n",
      "Epoch 4/10\n",
      "900/900 [==============================] - 117s 130ms/step - loss: 0.6304 - acc: 0.7000 - val_loss: 0.6857 - val_acc: 0.5500\n",
      "Epoch 5/10\n",
      "900/900 [==============================] - 117s 130ms/step - loss: 0.4821 - acc: 0.7744 - val_loss: 0.8862 - val_acc: 0.5800\n",
      "Epoch 6/10\n",
      "900/900 [==============================] - 117s 130ms/step - loss: 0.3257 - acc: 0.8767 - val_loss: 1.0366 - val_acc: 0.5700\n",
      "Epoch 7/10\n",
      "900/900 [==============================] - 117s 130ms/step - loss: 0.2974 - acc: 0.9189 - val_loss: 1.5745 - val_acc: 0.5400\n",
      "Epoch 8/10\n",
      "900/900 [==============================] - 119s 133ms/step - loss: 0.1550 - acc: 0.9600 - val_loss: 1.8940 - val_acc: 0.5500\n",
      "Epoch 9/10\n",
      "900/900 [==============================] - 127s 141ms/step - loss: 0.1225 - acc: 0.9689 - val_loss: 2.4728 - val_acc: 0.4500\n",
      "Epoch 10/10\n",
      "900/900 [==============================] - 127s 142ms/step - loss: 0.0818 - acc: 0.9789 - val_loss: 2.4421 - val_acc: 0.5700\n"
     ]
    },
    {
     "data": {
      "text/plain": [
       "<keras.callbacks.History at 0x7f081b4a9d68>"
      ]
     },
     "execution_count": 18,
     "metadata": {},
     "output_type": "execute_result"
    }
   ],
   "source": [
    "model.fit(x,y,batch_size=32,epochs=10,validation_split=0.1)"
   ]
  },
  {
   "cell_type": "code",
   "execution_count": 36,
   "metadata": {},
   "outputs": [],
   "source": [
    "model.save('Cats&Dog_final')"
   ]
  },
  {
   "cell_type": "code",
   "execution_count": 20,
   "metadata": {},
   "outputs": [],
   "source": [
    "from keras.models import load_model"
   ]
  },
  {
   "cell_type": "code",
   "execution_count": 37,
   "metadata": {},
   "outputs": [],
   "source": [
    "model = load_model('Cats&Dog_final')"
   ]
  },
  {
   "cell_type": "code",
   "execution_count": 21,
   "metadata": {},
   "outputs": [],
   "source": [
    "import cv2\n",
    "import numpy as np\n",
    "import os\n",
    "import matplotlib.pyplot as plt"
   ]
  },
  {
   "cell_type": "code",
   "execution_count": 38,
   "metadata": {},
   "outputs": [],
   "source": [
    "test_data='test/all'"
   ]
  },
  {
   "cell_type": "code",
   "execution_count": 39,
   "metadata": {},
   "outputs": [],
   "source": [
    "testing_data=[]\n",
    "final=[]\n",
    "name=[]\n",
    "for img in os.listdir(test_data):\n",
    "    try:\n",
    "        p=os.path.join(test_data,img)\n",
    "        img_array = cv2.imread(p)\n",
    "        new_array=cv2.resize(img_array,(256,256)) \n",
    "        final.append(new_array)\n",
    "        new_array = np.array(new_array).reshape(-1,256,256,3)\n",
    "#                 plt.imshow(new_array,cmap='gray')\n",
    "        testing_data.append(new_array)\n",
    "        name.append(img)\n",
    "    except Exception as e:\n",
    "        pass"
   ]
  },
  {
   "cell_type": "code",
   "execution_count": 40,
   "metadata": {},
   "outputs": [
    {
     "name": "stdout",
     "output_type": "stream",
     "text": [
      "this is Cat and Correct prediction cat.4060.jpg\n",
      "this is cat and Wrong Prediction dog.4057.jpg\n",
      "this is Dog and Correct prediction dog.4079.jpg\n",
      "this is Dog and Correct prediction dog.4002.jpg\n",
      "this is Cat and Correct prediction cat.4129.jpg\n",
      "this is Dog and Correct prediction dog.4097.jpg\n",
      "this is Cat and Correct prediction cat.4016.jpg\n",
      "this is Cat and Correct prediction cat.4100.jpg\n",
      "this is cat and Wrong Prediction dog.4106.jpg\n",
      "this is Dog and Wrong Prediction cat.4027.jpg\n",
      "this is Dog and Correct prediction dog.4121.jpg\n",
      "this is cat and Wrong Prediction dog.4103.jpg\n",
      "this is Dog and Wrong Prediction cat.4004.jpg\n",
      "this is cat and Wrong Prediction dog.4122.jpg\n",
      "this is Cat and Correct prediction cat.4099.jpg\n",
      "this is Dog and Correct prediction dog.4066.jpg\n",
      "this is cat and Wrong Prediction dog.4026.jpg\n",
      "this is Dog and Correct prediction dog.4145.jpg\n",
      "this is Cat and Correct prediction cat.4089.jpg\n",
      "this is Dog and Wrong Prediction cat.4121.jpg\n",
      "this is cat and Wrong Prediction dog.4054.jpg\n",
      "this is Dog and Correct prediction dog.4025.jpg\n",
      "this is Dog and Correct prediction dog.4027.jpg\n",
      "this is Cat and Correct prediction cat.4150.jpg\n",
      "this is Dog and Correct prediction dog.4053.jpg\n",
      "this is Cat and Correct prediction cat.4077.jpg\n",
      "this is Dog and Wrong Prediction cat.4059.jpg\n",
      "this is Dog and Wrong Prediction cat.4032.jpg\n",
      "this is Dog and Wrong Prediction cat.4147.jpg\n",
      "this is Cat and Correct prediction cat.4094.jpg\n",
      "this is Dog and Correct prediction dog.4014.jpg\n",
      "this is Dog and Wrong Prediction cat.4071.jpg\n",
      "this is cat and Wrong Prediction dog.4004.jpg\n",
      "this is Dog and Wrong Prediction cat.4075.jpg\n",
      "this is Cat and Correct prediction cat.4132.jpg\n",
      "this is Dog and Wrong Prediction cat.4149.jpg\n",
      "this is Dog and Wrong Prediction cat.4003.jpg\n",
      "this is Dog and Wrong Prediction cat.4051.jpg\n",
      "this is Cat and Correct prediction cat.4130.jpg\n",
      "this is Dog and Correct prediction dog.4068.jpg\n",
      "this is cat and Wrong Prediction dog.4070.jpg\n",
      "this is Dog and Correct prediction dog.4037.jpg\n",
      "this is Dog and Wrong Prediction cat.4134.jpg\n",
      "this is Cat and Correct prediction cat.4069.jpg\n",
      "this is Dog and Correct prediction dog.4104.jpg\n",
      "this is Dog and Correct prediction dog.4125.jpg\n",
      "this is Dog and Wrong Prediction cat.4095.jpg\n",
      "this is Dog and Correct prediction dog.4119.jpg\n",
      "this is Dog and Wrong Prediction cat.4131.jpg\n",
      "this is Dog and Correct prediction dog.4017.jpg\n",
      "this is cat and Wrong Prediction dog.4031.jpg\n",
      "this is Dog and Wrong Prediction cat.4049.jpg\n",
      "this is Cat and Correct prediction cat.4093.jpg\n",
      "this is Dog and Correct prediction dog.4060.jpg\n",
      "this is Dog and Wrong Prediction cat.4144.jpg\n",
      "this is Cat and Correct prediction cat.4041.jpg\n",
      "this is Cat and Correct prediction cat.4058.jpg\n",
      "this is Dog and Correct prediction dog.4069.jpg\n",
      "this is Dog and Wrong Prediction cat.4086.jpg\n",
      "this is Cat and Correct prediction cat.4036.jpg\n",
      "this is Cat and Correct prediction cat.4140.jpg\n",
      "this is Dog and Correct prediction dog.4098.jpg\n",
      "this is Dog and Correct prediction dog.4131.jpg\n",
      "this is cat and Wrong Prediction dog.4117.jpg\n",
      "this is Cat and Correct prediction cat.4146.jpg\n",
      "this is Dog and Wrong Prediction cat.4102.jpg\n",
      "this is Cat and Correct prediction cat.4039.jpg\n",
      "this is Cat and Correct prediction cat.4040.jpg\n",
      "this is Cat and Correct prediction cat.4115.jpg\n",
      "this is Dog and Correct prediction dog.4109.jpg\n",
      "this is Dog and Wrong Prediction cat.4035.jpg\n",
      "this is cat and Wrong Prediction dog.4092.jpg\n",
      "this is Dog and Correct prediction dog.4071.jpg\n",
      "this is Cat and Correct prediction cat.4098.jpg\n",
      "this is Dog and Correct prediction dog.4030.jpg\n",
      "this is Cat and Correct prediction cat.4141.jpg\n",
      "this is cat and Wrong Prediction dog.4036.jpg\n",
      "this is Dog and Correct prediction dog.4142.jpg\n",
      "this is Cat and Correct prediction cat.4045.jpg\n",
      "this is Cat and Correct prediction cat.4002.jpg\n",
      "this is Cat and Correct prediction cat.4145.jpg\n",
      "this is Dog and Wrong Prediction cat.4107.jpg\n",
      "this is cat and Wrong Prediction dog.4062.jpg\n",
      "this is cat and Wrong Prediction dog.4064.jpg\n",
      "this is cat and Wrong Prediction dog.4140.jpg\n",
      "this is Cat and Correct prediction cat.4088.jpg\n",
      "this is Dog and Correct prediction dog.4091.jpg\n",
      "this is Dog and Wrong Prediction cat.4119.jpg\n",
      "this is Cat and Correct prediction cat.4083.jpg\n",
      "this is cat and Wrong Prediction dog.4055.jpg\n",
      "this is Dog and Correct prediction dog.4019.jpg\n",
      "this is Dog and Correct prediction dog.4130.jpg\n",
      "this is Dog and Correct prediction dog.4107.jpg\n",
      "this is Dog and Wrong Prediction cat.4124.jpg\n",
      "this is cat and Wrong Prediction dog.4021.jpg\n",
      "this is Dog and Correct prediction dog.4016.jpg\n",
      "this is Dog and Correct prediction dog.4148.jpg\n",
      "this is cat and Wrong Prediction dog.4015.jpg\n",
      "this is cat and Wrong Prediction dog.4076.jpg\n",
      "this is Dog and Wrong Prediction cat.4090.jpg\n",
      "this is cat and Wrong Prediction dog.4124.jpg\n",
      "this is Cat and Correct prediction cat.4052.jpg\n",
      "this is Cat and Correct prediction cat.4008.jpg\n",
      "this is Dog and Correct prediction dog.4118.jpg\n",
      "this is Dog and Wrong Prediction cat.4096.jpg\n",
      "this is Dog and Wrong Prediction cat.4053.jpg\n",
      "this is Cat and Correct prediction cat.4081.jpg\n",
      "this is Cat and Correct prediction cat.4023.jpg\n",
      "this is Cat and Correct prediction cat.4017.jpg\n",
      "this is Dog and Correct prediction dog.4013.jpg\n",
      "this is Dog and Wrong Prediction cat.4133.jpg\n",
      "this is Dog and Correct prediction dog.4080.jpg\n",
      "this is Dog and Wrong Prediction cat.4092.jpg\n",
      "this is Dog and Wrong Prediction cat.4113.jpg\n",
      "this is cat and Wrong Prediction dog.4050.jpg\n",
      "this is Dog and Correct prediction dog.4143.jpg\n",
      "this is Dog and Correct prediction dog.4075.jpg\n",
      "this is cat and Wrong Prediction dog.4101.jpg\n",
      "this is Cat and Correct prediction cat.4111.jpg\n",
      "this is Cat and Correct prediction cat.4042.jpg\n",
      "this is Cat and Correct prediction cat.4142.jpg\n",
      "this is Dog and Wrong Prediction cat.4082.jpg\n",
      "this is Dog and Wrong Prediction cat.4021.jpg\n",
      "this is Dog and Correct prediction dog.4067.jpg\n",
      "this is Dog and Correct prediction dog.4134.jpg\n",
      "this is Dog and Wrong Prediction cat.4034.jpg\n",
      "this is Dog and Correct prediction dog.4049.jpg\n",
      "this is Dog and Correct prediction dog.4123.jpg\n",
      "this is Cat and Correct prediction cat.4047.jpg\n",
      "this is cat and Wrong Prediction dog.4149.jpg\n",
      "this is cat and Wrong Prediction dog.4010.jpg\n",
      "this is Dog and Wrong Prediction cat.4028.jpg\n",
      "this is cat and Wrong Prediction dog.4129.jpg\n",
      "this is Dog and Correct prediction dog.4135.jpg\n",
      "this is Dog and Correct prediction dog.4047.jpg\n",
      "this is Cat and Correct prediction cat.4091.jpg\n",
      "this is cat and Wrong Prediction dog.4006.jpg\n",
      "this is Dog and Wrong Prediction cat.4105.jpg\n",
      "this is Dog and Correct prediction dog.4138.jpg\n",
      "this is Dog and Correct prediction dog.4040.jpg\n",
      "this is cat and Wrong Prediction dog.4018.jpg\n",
      "this is Dog and Wrong Prediction cat.4006.jpg\n",
      "this is Cat and Correct prediction cat.4114.jpg\n",
      "this is Cat and Correct prediction cat.4024.jpg\n",
      "this is Dog and Wrong Prediction cat.4118.jpg\n",
      "this is Dog and Wrong Prediction cat.4062.jpg\n",
      "this is Dog and Wrong Prediction cat.4050.jpg\n",
      "this is cat and Wrong Prediction dog.4035.jpg\n",
      "this is Cat and Correct prediction cat.4005.jpg\n",
      "this is Dog and Correct prediction dog.4078.jpg\n",
      "this is Dog and Correct prediction dog.4009.jpg\n",
      "this is cat and Wrong Prediction dog.4087.jpg\n",
      "this is Cat and Correct prediction cat.4097.jpg\n",
      "this is Dog and Correct prediction dog.4116.jpg\n",
      "this is Dog and Wrong Prediction cat.4031.jpg\n",
      "this is cat and Wrong Prediction dog.4095.jpg\n",
      "this is Cat and Correct prediction cat.4022.jpg\n",
      "this is Dog and Correct prediction dog.4074.jpg\n",
      "this is cat and Wrong Prediction dog.4133.jpg\n",
      "this is cat and Wrong Prediction dog.4105.jpg\n",
      "this is Dog and Correct prediction dog.4110.jpg\n",
      "this is Dog and Correct prediction dog.4052.jpg\n",
      "this is Dog and Correct prediction dog.4058.jpg\n",
      "this is Dog and Wrong Prediction cat.4087.jpg\n",
      "this is Dog and Correct prediction dog.4120.jpg\n",
      "this is Cat and Correct prediction cat.4135.jpg\n",
      "this is Dog and Wrong Prediction cat.4117.jpg\n",
      "this is Dog and Wrong Prediction cat.4138.jpg\n",
      "this is Dog and Correct prediction dog.4011.jpg\n",
      "this is Dog and Correct prediction dog.4137.jpg\n",
      "this is Dog and Correct prediction dog.4096.jpg\n",
      "this is Cat and Correct prediction cat.4065.jpg\n",
      "this is cat and Wrong Prediction dog.4022.jpg\n",
      "this is cat and Wrong Prediction dog.4113.jpg\n",
      "this is Dog and Correct prediction dog.4099.jpg\n",
      "this is cat and Wrong Prediction dog.4136.jpg\n"
     ]
    },
    {
     "name": "stdout",
     "output_type": "stream",
     "text": [
      "this is Cat and Correct prediction cat.4030.jpg\n",
      "this is Cat and Correct prediction cat.4085.jpg\n",
      "this is cat and Wrong Prediction dog.4073.jpg\n",
      "this is cat and Wrong Prediction dog.4043.jpg\n",
      "this is Cat and Correct prediction cat.4072.jpg\n",
      "this is cat and Wrong Prediction dog.4034.jpg\n",
      "this is Dog and Correct prediction dog.4038.jpg\n",
      "this is Dog and Wrong Prediction cat.4116.jpg\n",
      "this is Dog and Correct prediction dog.4090.jpg\n",
      "this is Dog and Wrong Prediction cat.4123.jpg\n",
      "this is Dog and Correct prediction dog.4046.jpg\n",
      "this is Dog and Correct prediction dog.4063.jpg\n",
      "this is Dog and Wrong Prediction cat.4139.jpg\n",
      "this is Cat and Correct prediction cat.4001.jpg\n",
      "this is cat and Wrong Prediction dog.4029.jpg\n",
      "this is cat and Wrong Prediction dog.4139.jpg\n",
      "this is Cat and Correct prediction cat.4106.jpg\n",
      "this is Cat and Correct prediction cat.4015.jpg\n",
      "this is Cat and Correct prediction cat.4143.jpg\n",
      "this is Dog and Correct prediction dog.4051.jpg\n",
      "this is cat and Wrong Prediction dog.4141.jpg\n",
      "this is Dog and Correct prediction dog.4085.jpg\n",
      "this is Dog and Correct prediction dog.4150.jpg\n",
      "this is Cat and Correct prediction cat.4103.jpg\n",
      "this is Dog and Correct prediction dog.4102.jpg\n",
      "this is cat and Wrong Prediction dog.4003.jpg\n",
      "this is Cat and Correct prediction cat.4127.jpg\n",
      "this is Dog and Wrong Prediction cat.4137.jpg\n",
      "this is Dog and Wrong Prediction cat.4136.jpg\n",
      "this is Dog and Wrong Prediction cat.4122.jpg\n",
      "this is Dog and Correct prediction dog.4041.jpg\n",
      "this is Dog and Wrong Prediction cat.4054.jpg\n",
      "this is Dog and Correct prediction dog.4056.jpg\n",
      "this is Dog and Correct prediction dog.4045.jpg\n",
      "this is cat and Wrong Prediction dog.4033.jpg\n",
      "this is Dog and Wrong Prediction cat.4063.jpg\n",
      "this is Cat and Correct prediction cat.4019.jpg\n",
      "this is Cat and Correct prediction cat.4148.jpg\n",
      "this is Dog and Wrong Prediction cat.4046.jpg\n",
      "this is cat and Wrong Prediction dog.4065.jpg\n",
      "this is cat and Wrong Prediction dog.4132.jpg\n",
      "this is Cat and Correct prediction cat.4066.jpg\n",
      "this is Cat and Correct prediction cat.4033.jpg\n",
      "this is Cat and Correct prediction cat.4067.jpg\n",
      "this is Dog and Wrong Prediction cat.4064.jpg\n",
      "this is Cat and Correct prediction cat.4128.jpg\n",
      "this is Dog and Wrong Prediction cat.4029.jpg\n",
      "this is Cat and Correct prediction cat.4109.jpg\n",
      "this is Dog and Correct prediction dog.4023.jpg\n",
      "this is cat and Wrong Prediction dog.4044.jpg\n",
      "this is Dog and Wrong Prediction cat.4079.jpg\n",
      "this is cat and Wrong Prediction dog.4020.jpg\n",
      "this is Dog and Correct prediction dog.4126.jpg\n",
      "this is Dog and Wrong Prediction cat.4112.jpg\n",
      "this is Dog and Correct prediction dog.4007.jpg\n",
      "this is cat and Wrong Prediction dog.4115.jpg\n",
      "this is cat and Wrong Prediction dog.4012.jpg\n",
      "this is Dog and Correct prediction dog.4146.jpg\n",
      "this is Dog and Wrong Prediction cat.4068.jpg\n",
      "this is cat and Wrong Prediction dog.4112.jpg\n",
      "this is Cat and Correct prediction cat.4037.jpg\n",
      "this is Dog and Correct prediction dog.4114.jpg\n",
      "this is Cat and Correct prediction cat.4074.jpg\n",
      "this is Dog and Correct prediction dog.4108.jpg\n",
      "this is Cat and Correct prediction cat.4055.jpg\n",
      "this is cat and Wrong Prediction dog.4089.jpg\n",
      "this is Cat and Correct prediction cat.4110.jpg\n",
      "this is cat and Wrong Prediction dog.4072.jpg\n",
      "this is Dog and Correct prediction dog.4048.jpg\n",
      "this is Dog and Wrong Prediction cat.4020.jpg\n",
      "this is Dog and Wrong Prediction cat.4056.jpg\n",
      "this is Dog and Correct prediction dog.4024.jpg\n",
      "this is Cat and Correct prediction cat.4025.jpg\n",
      "this is Dog and Correct prediction dog.4061.jpg\n",
      "this is Dog and Correct prediction dog.4001.jpg\n",
      "this is Dog and Correct prediction dog.4093.jpg\n",
      "this is Cat and Correct prediction cat.4078.jpg\n",
      "this is Cat and Correct prediction cat.4073.jpg\n",
      "this is Dog and Wrong Prediction cat.4048.jpg\n",
      "this is cat and Wrong Prediction dog.4094.jpg\n",
      "this is Dog and Wrong Prediction cat.4076.jpg\n",
      "this is Cat and Correct prediction cat.4043.jpg\n",
      "this is cat and Wrong Prediction dog.4008.jpg\n",
      "this is Dog and Wrong Prediction cat.4038.jpg\n",
      "this is Cat and Correct prediction cat.4084.jpg\n",
      "this is Dog and Correct prediction dog.4128.jpg\n",
      "this is Dog and Wrong Prediction cat.4044.jpg\n",
      "this is Dog and Wrong Prediction cat.4126.jpg\n",
      "this is cat and Wrong Prediction dog.4039.jpg\n",
      "this is cat and Wrong Prediction dog.4042.jpg\n",
      "this is cat and Wrong Prediction dog.4028.jpg\n",
      "this is Cat and Correct prediction cat.4007.jpg\n",
      "this is Dog and Correct prediction dog.4086.jpg\n",
      "this is Dog and Wrong Prediction cat.4080.jpg\n",
      "this is cat and Wrong Prediction dog.4144.jpg\n",
      "this is Dog and Correct prediction dog.4082.jpg\n",
      "this is Dog and Correct prediction dog.4100.jpg\n",
      "this is Dog and Correct prediction dog.4111.jpg\n",
      "this is Dog and Correct prediction dog.4081.jpg\n",
      "this is Cat and Correct prediction cat.4101.jpg\n",
      "this is Cat and Correct prediction cat.4125.jpg\n",
      "this is Dog and Correct prediction dog.4088.jpg\n",
      "this is Cat and Correct prediction cat.4057.jpg\n",
      "this is cat and Wrong Prediction dog.4127.jpg\n",
      "this is Dog and Correct prediction dog.4147.jpg\n",
      "this is Dog and Wrong Prediction cat.4070.jpg\n",
      "this is Cat and Correct prediction cat.4018.jpg\n",
      "this is cat and Wrong Prediction dog.4032.jpg\n",
      "this is Cat and Correct prediction cat.4104.jpg\n",
      "this is Cat and Correct prediction cat.4108.jpg\n",
      "this is cat and Wrong Prediction dog.4059.jpg\n",
      "this is Cat and Correct prediction cat.4026.jpg\n",
      "this is Dog and Correct prediction dog.4077.jpg\n",
      "this is Dog and Correct prediction dog.4084.jpg\n",
      "this is Cat and Correct prediction cat.4061.jpg\n",
      "this is Cat and Correct prediction cat.4120.jpg\n",
      "this is cat and Wrong Prediction dog.4083.jpg\n",
      "this is Dog and Correct prediction dog.4005.jpg\n",
      "Correct:168,Wrong:126\n"
     ]
    }
   ],
   "source": [
    "correct=wrong=0\n",
    "for x in range(len(testing_data)):\n",
    "    title=\"\"    \n",
    "    \n",
    "    pred= model.predict(testing_data[x])\n",
    "    n = name[x].split(\".\")[0].strip()\n",
    "    if pred>0.5:\n",
    "        if n =='cat':\n",
    "            title=\"this is Cat and Correct prediction \" + name[x]\n",
    "            correct+=1\n",
    "        else:\n",
    "            title=\"this is cat and Wrong Prediction \" + name[x]\n",
    "            wrong+=1\n",
    "    else:\n",
    "        if n =='dog':\n",
    "            title=\"this is Dog and Correct prediction \"+ name[x]\n",
    "            correct+=1\n",
    "        else:\n",
    "            title=\"this is Dog and Wrong Prediction \"+ name[x]\n",
    "            wrong+=1\n",
    "    print(title)\n",
    "    #plt.figure()\n",
    "    #plt.title(title)\n",
    "    #plt.subplot(x+1)\n",
    "    #plt.imshow(final[x],cmap='gray')\n",
    "print(\"Correct:{},Wrong:{}\".format(correct,wrong))"
   ]
  },
  {
   "cell_type": "code",
   "execution_count": 41,
   "metadata": {},
   "outputs": [
    {
     "name": "stdout",
     "output_type": "stream",
     "text": [
      "Accuracy:0.5714285714285714\n"
     ]
    }
   ],
   "source": [
    "print(\"Accuracy:{}\".format(correct/(correct+wrong)))"
   ]
  }
 ],
 "metadata": {
  "kernelspec": {
   "display_name": "Python 3",
   "language": "python",
   "name": "python3"
  },
  "language_info": {
   "codemirror_mode": {
    "name": "ipython",
    "version": 3
   },
   "file_extension": ".py",
   "mimetype": "text/x-python",
   "name": "python",
   "nbconvert_exporter": "python",
   "pygments_lexer": "ipython3",
   "version": "3.7.3"
  }
 },
 "nbformat": 4,
 "nbformat_minor": 2
}
